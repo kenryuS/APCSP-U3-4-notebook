{
 "cells": [
  {
   "cell_type": "markdown",
   "id": "6b44c34a",
   "metadata": {},
   "source": [
    "### ***This notebook uses  JSLab kernel. If it isn't installed to your Jupyter Lab/Notebook, Please install it to execute the cell.***"
   ]
  },
  {
   "cell_type": "markdown",
   "id": "3aedb449-a718-4d0e-bc1a-ea42ac1df9b5",
   "metadata": {},
   "source": [
    "# More on Variables"
   ]
  },
  {
   "cell_type": "markdown",
   "id": "8b34e3e9-5d7d-45be-9b60-820956b49840",
   "metadata": {},
   "source": [
    "## Name of the Variables\n",
    "\n",
    "The name of the vars should be short, separated by _ or upper-case. ex. :\n",
    "\n",
    "```javascript\n",
    "var foo;\n",
    "var blogTitle;\n",
    "var blog_post_title;\n",
    "```\n",
    "\n",
    "The purpose of the vars should be easily recognized by its name. ex. :\n",
    "\n",
    "```javascript\n",
    "var b = \"Intro to Linux\"; // bad naming: what does 'b' stands for?\n",
    "\n",
    "var bookTitle = \"Intro to Linux\"; // better alt.\n",
    "```\n",
    "\n",
    "The variable name should NOT started with number or symbol. ex. :\n",
    "\n",
    "```javascript\n",
    "var 0num; // invalid naming\n",
    "var #@hello; //invalid naming\n",
    "```\n",
    "\n",
    "Also the variable name cannot be named same with programming languages' key words (ex. `export`, `var`, `let`, `const` in javascript, `def` `while` `class`, `with` in Python.)"
   ]
  },
  {
   "cell_type": "markdown",
   "id": "3ed81071-47bc-4830-b016-8268f49b77d7",
   "metadata": {},
   "source": [
    "## Escape Sequence\n",
    "\n",
    "In most programming languages, there are String type which can declare the vars with multiple chars. ex. :\n",
    "\n",
    "```C++\n",
    "char a[] = \"Hello\"; // array of characters in C++\n",
    "string b = \"World\"; // String type (include the string.h to use it)\n",
    "```\n",
    "\n",
    "In the string, you can write the escape sequence which most languages starts with '\\'. One of the mose common sequence is '\\n' which means start new line. And some special characters such as \", ', \\, /, etc. needs to be in escape sequence when it is used as String: `\"Say \\\"Hello\\\" to programming.\"` should return `Say \"Hello\" to programming.`."
   ]
  },
  {
   "cell_type": "code",
   "execution_count": 1,
   "id": "2511cde8-f0f2-4092-b008-3a51fa80beb2",
   "metadata": {},
   "outputs": [
    {
     "name": "stdout",
     "output_type": "stream",
     "text": [
      "Hello World\n",
      "Hello\n",
      "World\n",
      "Say \"Hello\" to the World\n"
     ]
    }
   ],
   "source": [
    "console.log(\"Hello World\");\n",
    "console.log(\"Hello\\nWorld\");\n",
    "console.log(\"Say \\\"Hello\\\" to the World\");"
   ]
  },
  {
   "cell_type": "markdown",
   "id": "603ec74c-48d5-4793-887b-6cf4f34614a6",
   "metadata": {},
   "source": [
    "## Counter Pattern\n",
    "\n",
    "Sometimes you want to add 1 to the variable itself. To write this in many programming language, you should write something like this:\n",
    "\n",
    "```javascript\n",
    "var a = 1; //declare var a with init value of 1\n",
    "a = a + 1; //increment the value of a by 1 -> 2\n",
    "a += 1; //short-hand of above\n",
    "```\n",
    "\n",
    "Many high-level programming language supports `+=`, `-=`, `*=`, or `/=` which is equal to `[var] = [var] <operator> [right side value]`.\n",
    "\n",
    "In when it is used to string, only `+=` with string or numbers on right side will return logical result in JavaScript. The other operators returns `Nan` in JavaScript. But some language behaves in different way such as Python when `*=` used by string on left and integer on right will result the string repeated in n times.\n",
    "\n",
    "```python\n",
    "a = \"Hello\" #declare var in Python\n",
    "a *= 3\n",
    "print(a) #results \"HelloHelloHello\"\n",
    "```"
   ]
  },
  {
   "cell_type": "markdown",
   "id": "827cce46-5ccf-40fc-b66f-c09d572b46e5",
   "metadata": {},
   "source": [
    "## Global and Local Variable\n",
    "\n",
    "Some languages uses two types of variable: Global and Local. The difference of two is whether the variable can use every part in the program or only one part of program which most languages call \"Scope\"."
   ]
  },
  {
   "cell_type": "code",
   "execution_count": 7,
   "id": "de578844-dcb4-466c-8f7c-a00a82f4a015",
   "metadata": {},
   "outputs": [
    {
     "name": "stdout",
     "output_type": "stream",
     "text": [
      "Hello Ken\n",
      "Hello\n"
     ]
    }
   ],
   "source": [
    "var a = \"Hello\"; // Global variable\n",
    "\n",
    "function greet() {\n",
    "    var name = \"Ken\" // local variable\n",
    "    console.log(a, name);\n",
    "} // out of scope; variable 'name' can't be refered outside this scope\n",
    "\n",
    "greet() // call function\n",
    "\n",
    "console.log(a); // OK\n",
    "// console.log(name); // Error: \"10:13 - Cannot find name 'name'.\""
   ]
  },
  {
   "cell_type": "code",
   "execution_count": null,
   "id": "44d44d7b-045c-435c-a644-24cb8f00b124",
   "metadata": {},
   "outputs": [],
   "source": []
  }
 ],
 "metadata": {
  "kernelspec": {
   "display_name": "JavaScript",
   "language": "javascript",
   "name": "jslab"
  },
  "language_info": {
   "file_extension": ".js",
   "mimetype": "text/javascript",
   "name": "javascript",
   "version": ""
  }
 },
 "nbformat": 4,
 "nbformat_minor": 5
}
