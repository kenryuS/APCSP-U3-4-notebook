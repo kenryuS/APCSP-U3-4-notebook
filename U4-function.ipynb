{
 "cells": [
  {
   "cell_type": "code",
   "execution_count": 1,
   "id": "57acd19d-f360-4e0f-9f31-6d86bbff54ba",
   "metadata": {},
   "outputs": [
    {
     "data": {
      "application/javascript": [
       "\n",
       "alert(\"Happy B-day to you\");\n",
       "alert(\"Happy B-day to you\");\n",
       "alert(\"Happy B-day to you\");\n",
       "alert(\"Happy B-day to dear ...\");\n",
       "alert(\"Happy B-day to you\");\n",
       "\n",
       "\"... repeate\"\n"
      ],
      "text/plain": [
       "<IPython.core.display.Javascript object>"
      ]
     },
     "metadata": {},
     "output_type": "display_data"
    }
   ],
   "source": [
    "%%js\n",
    "\n",
    "alert(\"Happy B-day to you\");\n",
    "alert(\"Happy B-day to you\");\n",
    "alert(\"Happy B-day to dear ...\");\n",
    "alert(\"Happy B-day to you\");\n",
    "\n",
    "\"... repeate\""
   ]
  },
  {
   "cell_type": "code",
   "execution_count": 6,
   "id": "868fc125-c673-44d3-87c9-2661ffb7aedd",
   "metadata": {},
   "outputs": [
    {
     "data": {
      "application/javascript": [
       "\n",
       "// ES6 syntax\n",
       "const playHappyBdayES6 = (name) => {\n",
       "    alert(\"Happy B-day to you\");\n",
       "    alert(\"Happy B-day to you\");\n",
       "    alert(\"Happy B-day to you\");\n",
       "    alert(\"Happy B-day to dear \" + name);\n",
       "    alert(\"Happy B-day to you\");\n",
       "}\n",
       "\n",
       "function playHappyBday(name) {\n",
       "    alert(\"Happy B-day to you\");\n",
       "    alert(\"Happy B-day to you\");\n",
       "    alert(\"Happy B-day to you\");\n",
       "    alert(\"Happy B-day to dear \" + name);\n",
       "    alert(\"Happy B-day to you\");\n",
       "}\n",
       "\n",
       "playHappyBday(\"everyone\")\n"
      ],
      "text/plain": [
       "<IPython.core.display.Javascript object>"
      ]
     },
     "metadata": {},
     "output_type": "display_data"
    }
   ],
   "source": [
    "%%js\n",
    "\n",
    "// ES6 syntax\n",
    "const playHappyBdayES6 = (name) => {\n",
    "    alert(\"Happy B-day to you\");\n",
    "    alert(\"Happy B-day to you\");\n",
    "    alert(\"Happy B-day to dear \" + name);\n",
    "    alert(\"Happy B-day to you\");\n",
    "}\n",
    "\n",
    "function playHappyBday(name) {\n",
    "    alert(\"Happy B-day to you\");\n",
    "    alert(\"Happy B-day to you\");\n",
    "    alert(\"Happy B-day to dear \" + name);\n",
    "    alert(\"Happy B-day to you\");\n",
    "}\n",
    "\n",
    "playHappyBday(\"everyone\")"
   ]
  },
  {
   "cell_type": "code",
   "execution_count": 9,
   "id": "2390e3ac-97a1-4106-909c-7b6ea5512eca",
   "metadata": {},
   "outputs": [
    {
     "data": {
      "application/javascript": [
       "function PlayHappyBday(name) {\n",
       "    alert(\"Happy B-day to you\");\n",
       "    alert(\"Happy B-day to you\");\n",
       "    alert(\"Happy B-day to dear \" + name);\n",
       "    alert(\"Happy B-day to you\");\n",
       "}\n",
       "\n",
       "PlayHappyBday(\"everyone\")\n"
      ],
      "text/plain": [
       "<IPython.core.display.Javascript object>"
      ]
     },
     "metadata": {},
     "output_type": "display_data"
    }
   ],
   "source": [
    "%%js\n",
    "function PlayHappyBday(name) {\n",
    "    alert(\"Happy B-day to you\");\n",
    "    alert(\"Happy B-day to you\");\n",
    "    alert(\"Happy B-day to dear \" + name);\n",
    "    alert(\"Happy B-day to you\");\n",
    "}\n",
    "\n",
    "PlayHappyBday(\"everyone\")"
   ]
  },
  {
   "cell_type": "markdown",
   "id": "e4c0c4f5-62ab-4289-aa02-e118112606cb",
   "metadata": {},
   "source": [
    "### Function\n",
    "\n",
    "Function: a named group of programming instructions. Also referred to as a \"procedure\"\n",
    "\n",
    "Why function?\n",
    "* efficiency\n",
    "* reuseability\n",
    "* readability\n",
    "* debugging\n",
    "\n",
    "function call: command to start the execution of the function\n",
    "function definition: the header and body\n",
    "function header: keyword function followed by the `<name> (<args>)`\n",
    "function body: allcommands included between the `{ }`\n",
    "\n",
    "What's the difference between naming variables and functions? Whether it has `()` at the end.\n",
    "\n",
    "What's the difference in using/calling a variable/function? Whether there is definition keyword. `var` for var, `function` for func."
   ]
  },
  {
   "cell_type": "code",
   "execution_count": null,
   "id": "f5aa8fba-4810-48c5-9054-7af6ad478ca1",
   "metadata": {},
   "outputs": [],
   "source": []
  }
 ],
 "metadata": {
  "kernelspec": {
   "display_name": "Python 3 (ipykernel)",
   "language": "python",
   "name": "python3"
  },
  "language_info": {
   "codemirror_mode": {
    "name": "ipython",
    "version": 3
   },
   "file_extension": ".py",
   "mimetype": "text/x-python",
   "name": "python",
   "nbconvert_exporter": "python",
   "pygments_lexer": "ipython3",
   "version": "3.10.7"
  }
 },
 "nbformat": 4,
 "nbformat_minor": 5
}
