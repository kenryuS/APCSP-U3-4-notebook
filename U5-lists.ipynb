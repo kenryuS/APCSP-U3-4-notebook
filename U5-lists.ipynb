{
 "cells": [
  {
   "cell_type": "markdown",
   "id": "aac8f3e6-fee3-4885-90c1-d0aa7db057ab",
   "metadata": {},
   "source": [
    "# Unit 5: Lists"
   ]
  },
  {
   "cell_type": "markdown",
   "id": "eed1348f-cfcd-43aa-92d8-2fb4f3177ba8",
   "metadata": {},
   "source": [
    "### Creation of Lists"
   ]
  },
  {
   "cell_type": "code",
   "execution_count": 9,
   "id": "8ee5cc7a-5e36-4de7-9921-1c955b7fa018",
   "metadata": {},
   "outputs": [
    {
     "data": {
      "application/javascript": [
       "\n",
       "var favoriteLang = [\"Python\", \"Javascript\" , \"C++\", \"C#\", \"Java\", \"Rust\"];\n",
       "alert(favoriteLang);\n",
       "\n",
       "for (var i = 0; i < favoriteLang.length; i += 1) {\n",
       "    alert(favoriteLang[i]);\n",
       "}\n"
      ],
      "text/plain": [
       "<IPython.core.display.Javascript object>"
      ]
     },
     "metadata": {},
     "output_type": "display_data"
    }
   ],
   "source": [
    "%%js\n",
    "\n",
    "var favoriteLang = [\"Python\", \"Javascript\" , \"C++\", \"C#\", \"Java\", \"Rust\"];\n",
    "alert(favoriteLang);\n",
    "\n",
    "for (var i = 0; i < favoriteLang.length; i += 1) {\n",
    "    alert(favoriteLang[i]);\n",
    "}"
   ]
  },
  {
   "cell_type": "code",
   "execution_count": null,
   "id": "812c83e2-074a-4ff3-8909-887a51d38466",
   "metadata": {},
   "outputs": [],
   "source": []
  }
 ],
 "metadata": {
  "kernelspec": {
   "display_name": "Python 3 (ipykernel)",
   "language": "python",
   "name": "python3"
  },
  "language_info": {
   "codemirror_mode": {
    "name": "ipython",
    "version": 3
   },
   "file_extension": ".py",
   "mimetype": "text/x-python",
   "name": "python",
   "nbconvert_exporter": "python",
   "pygments_lexer": "ipython3",
   "version": "3.10.7"
  }
 },
 "nbformat": 4,
 "nbformat_minor": 5
}
