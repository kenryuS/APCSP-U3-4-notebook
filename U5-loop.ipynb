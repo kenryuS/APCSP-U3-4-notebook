{
 "cells": [
  {
   "cell_type": "markdown",
   "id": "e2f336aa-bb5e-4029-a863-ec2ff765ac27",
   "metadata": {},
   "source": [
    "### find sum of 10 numbers entered in by user and display"
   ]
  },
  {
   "cell_type": "code",
   "execution_count": 3,
   "id": "9e702b4b-6ea8-4304-a050-0ee609475923",
   "metadata": {},
   "outputs": [
    {
     "data": {
      "application/javascript": [
       "var sum = 0;\n",
       "\n",
       "for (var i = 0; i < 5; i++) {\n",
       "    sum += Number(prompt(\"Enter num: \"));\n",
       "}\n",
       "\n",
       "alert(sum);\n"
      ],
      "text/plain": [
       "<IPython.core.display.Javascript object>"
      ]
     },
     "metadata": {},
     "output_type": "display_data"
    }
   ],
   "source": [
    "%%js\n",
    "var sum = 0;\n",
    "\n",
    "for (var i = 0; i < 5; i++) {\n",
    "    sum += Number(prompt(\"Enter num: \"));\n",
    "}\n",
    "\n",
    "alert(sum);"
   ]
  },
  {
   "cell_type": "code",
   "execution_count": 6,
   "id": "bf03cd54-4d2d-4878-94ee-f2b59cf1d4da",
   "metadata": {},
   "outputs": [
    {
     "data": {
      "application/javascript": [
       "\n",
       "var i = 0;\n",
       "var sum = 0;\n",
       "while (i < 5) {\n",
       "    sum += Number(prompt(\"Enter num: \"));\n",
       "    i += 1;\n",
       "} alert(sum);\n"
      ],
      "text/plain": [
       "<IPython.core.display.Javascript object>"
      ]
     },
     "metadata": {},
     "output_type": "display_data"
    }
   ],
   "source": [
    "%%js\n",
    "\n",
    "var i = 0;\n",
    "var sum = 0;\n",
    "while (i < 5) {\n",
    "    sum += Number(prompt(\"Enter num: \"));\n",
    "    i += 1;\n",
    "} alert(sum);"
   ]
  },
  {
   "cell_type": "code",
   "execution_count": null,
   "id": "c394c86d-e9d9-4c7b-b6e8-0499faf2a7ca",
   "metadata": {},
   "outputs": [],
   "source": []
  }
 ],
 "metadata": {
  "kernelspec": {
   "display_name": "Python 3 (ipykernel)",
   "language": "python",
   "name": "python3"
  },
  "language_info": {
   "codemirror_mode": {
    "name": "ipython",
    "version": 3
   },
   "file_extension": ".py",
   "mimetype": "text/x-python",
   "name": "python",
   "nbconvert_exporter": "python",
   "pygments_lexer": "ipython3",
   "version": "3.9.12"
  }
 },
 "nbformat": 4,
 "nbformat_minor": 5
}
