{
 "cells": [
  {
   "cell_type": "markdown",
   "id": "e5e0e66b-094d-448d-acd2-8a08dc2baff9",
   "metadata": {},
   "source": [
    "# Display Text"
   ]
  },
  {
   "cell_type": "raw",
   "id": "1910e5e9-a66b-4370-8c57-a5011ac58103",
   "metadata": {},
   "source": [
    "Ways to have text - chars, num, strings appear on the screen, the console, or the app\n",
    "*** added an element - label - the txt prop during the design of the app"
   ]
  },
  {
   "cell_type": "markdown",
   "id": "3958b31c-31fc-4e5a-a05d-acf928776465",
   "metadata": {},
   "source": [
    "### Psudedo Code - AP PSUEDO code"
   ]
  },
  {
   "cell_type": "raw",
   "id": "0f657b77-c233-4051-9221-66186a722d10",
   "metadata": {},
   "source": [
    "DISPLAY(\"TXT\")"
   ]
  },
  {
   "cell_type": "markdown",
   "id": "426afa6e-67db-44ea-9647-22dceb5b5152",
   "metadata": {},
   "source": [
    "### Jupyter Language - mix of python turned to javascript"
   ]
  },
  {
   "cell_type": "code",
   "execution_count": 2,
   "id": "928975de-1b21-40b3-9301-f93c48300021",
   "metadata": {},
   "outputs": [
    {
     "data": {
      "application/javascript": [
       "alert(\"Running javascript on python notebook.\");\n"
      ],
      "text/plain": [
       "<IPython.core.display.Javascript object>"
      ]
     },
     "metadata": {},
     "output_type": "display_data"
    }
   ],
   "source": [
    "%%js\n",
    "alert(\"Running javascript on python notebook.\");"
   ]
  },
  {
   "cell_type": "code",
   "execution_count": 3,
   "id": "68df7c59-f401-4745-aae1-e7d72e2d187b",
   "metadata": {},
   "outputs": [
    {
     "data": {
      "application/javascript": [
       "\n",
       "var msg = \"hello\";\n",
       "\n",
       "if (msg = \"hello\") {\n",
       "    alert(\"World!\");\n",
       "}\n"
      ],
      "text/plain": [
       "<IPython.core.display.Javascript object>"
      ]
     },
     "metadata": {},
     "output_type": "display_data"
    }
   ],
   "source": [
    "%%js\n",
    "\n",
    "var msg = \"hello\";\n",
    "\n",
    "if (msg = \"hello\") {\n",
    "    alert(\"World!\");\n",
    "}"
   ]
  },
  {
   "cell_type": "code",
   "execution_count": 6,
   "id": "3a229fda-8856-4ac4-b183-94853c43d5ad",
   "metadata": {},
   "outputs": [
    {
     "data": {
      "application/javascript": [
       "if (5 === \"5\") {alert(\"True?\");}\n",
       "else {alert(\"false\");}\n"
      ],
      "text/plain": [
       "<IPython.core.display.Javascript object>"
      ]
     },
     "metadata": {},
     "output_type": "display_data"
    }
   ],
   "source": [
    "%%js\n",
    "if (5 === \"5\") {alert(\"True?\");}\n",
    "else {alert(\"false\");}"
   ]
  },
  {
   "cell_type": "code",
   "execution_count": null,
   "id": "b91c0192-290c-40fd-8a84-2ab0e829d7ed",
   "metadata": {},
   "outputs": [],
   "source": []
  }
 ],
 "metadata": {
  "kernelspec": {
   "display_name": "Python 3 (ipykernel)",
   "language": "python",
   "name": "python3"
  },
  "language_info": {
   "codemirror_mode": {
    "name": "ipython",
    "version": 3
   },
   "file_extension": ".py",
   "mimetype": "text/x-python",
   "name": "python",
   "nbconvert_exporter": "python",
   "pygments_lexer": "ipython3",
   "version": "3.9.12"
  }
 },
 "nbformat": 4,
 "nbformat_minor": 5
}
