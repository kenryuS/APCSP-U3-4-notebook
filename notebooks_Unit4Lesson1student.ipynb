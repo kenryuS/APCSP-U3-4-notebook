{
 "cells": [
  {
   "cell_type": "markdown",
   "metadata": {},
   "source": [
    "#### Display"
   ]
  },
  {
   "cell_type": "raw",
   "metadata": {},
   "source": [
    "Assignment operator 🡠 (Psuedo Code)  = (Javascript)\n",
    "* like mathematic operator \"=\", it takes right value assigning to left value\n",
    "* \n"
   ]
  },
  {
   "cell_type": "code",
   "execution_count": 6,
   "metadata": {},
   "outputs": [
    {
     "data": {
      "application/javascript": [
       "var pow;  //decare a variable called pow\n",
       "pow = 3;  //assign pow a value\n",
       "pow = 5; //assign pow another value\n",
       "\n",
       "//what is going to display? 5\n",
       "\n",
       "alert(pow); //\n"
      ],
      "text/plain": [
       "<IPython.core.display.Javascript object>"
      ]
     },
     "metadata": {},
     "output_type": "display_data"
    }
   ],
   "source": [
    "%%js\n",
    "var pow;  //decare a variable called pow\n",
    "pow = 3;  //assign pow a value\n",
    "pow = 5; //assign pow another value\n",
    "\n",
    "//what is going to display? 5\n",
    "\n",
    "alert(pow); //"
   ]
  },
  {
   "cell_type": "raw",
   "metadata": {},
   "source": [
    "var pizza\n",
    "pizza 🡠 3\n",
    "var tacos\n",
    "pizza 🡠 \"yum\"\n",
    "tacos 🡠 \"the best\"\n",
    "\n",
    "What is stored in pizza & tacos? pizza: \"yum\", tacos: \"the best\""
   ]
  },
  {
   "cell_type": "code",
   "execution_count": 7,
   "metadata": {},
   "outputs": [
    {
     "data": {
      "application/javascript": [
       "var pow;  //decare a variable called pow\n",
       "pow = 1+2;  //assign pow a value\n",
       "pow = 3+4; //assign pow another value\n",
       "\n",
       "//what is going to display? 7 (3+4)\n",
       "\n",
       "alert(pow); //\n"
      ],
      "text/plain": [
       "<IPython.core.display.Javascript object>"
      ]
     },
     "metadata": {},
     "output_type": "display_data"
    }
   ],
   "source": [
    "%%js\n",
    "var pow;  //decare a variable called pow\n",
    "pow = 1+2;  //assign pow a value\n",
    "pow = 3+4; //assign pow another value\n",
    "\n",
    "//what is going to display? 7 (3+4)\n",
    "\n",
    "alert(pow); //"
   ]
  },
  {
   "cell_type": "markdown",
   "metadata": {},
   "source": [
    "### Assign a Variable: Expression with Variables"
   ]
  },
  {
   "cell_type": "code",
   "execution_count": 3,
   "metadata": {},
   "outputs": [
    {
     "data": {
      "application/javascript": [
       "var kit = 0\n",
       "kit = 1\n",
       "var boo = 0\n",
       "boo = kit + 1\n",
       "kit = 5\n",
       "//what is the output?\n",
       "alert(boo) //\n",
       "alert(kit) //\n"
      ],
      "text/plain": [
       "<IPython.core.display.Javascript object>"
      ]
     },
     "metadata": {},
     "output_type": "display_data"
    }
   ],
   "source": [
    "%%js\n",
    "var kit = 0\n",
    "kit = 1\n",
    "var boo = 0\n",
    "boo = kit + 1\n",
    "kit = 5\n",
    "//what is the output?\n",
    "alert(boo) //\n",
    "alert(kit) //"
   ]
  },
  {
   "cell_type": "code",
   "execution_count": 4,
   "metadata": {},
   "outputs": [
    {
     "data": {
      "application/javascript": [
       "var fuzz\n",
       "var clip\n",
       "fuzz = 5\n",
       "clip = fuzz + 2\n",
       "fuzz = clip + 1\n",
       "clip = \"gr\" + fuzz\n",
       "fuzz = fuzz + 1\n",
       "fuzz = fuzz + 1\n",
       "fuzz = fuzz + 1\n",
       "//what is the output?\n",
       "\n",
       "alert(\"fuzz = \" + fuzz) //\n",
       "alert(\"clip = \" + clip) //\n"
      ],
      "text/plain": [
       "<IPython.core.display.Javascript object>"
      ]
     },
     "metadata": {},
     "output_type": "display_data"
    }
   ],
   "source": [
    "%%js\n",
    "var fuzz\n",
    "var clip\n",
    "fuzz = 5\n",
    "clip = fuzz + 2\n",
    "fuzz = clip + 1\n",
    "clip = \"gr\" + fuzz\n",
    "fuzz = fuzz + 1\n",
    "fuzz = fuzz + 1\n",
    "fuzz = fuzz + 1\n",
    "//what is the output?\n",
    "\n",
    "alert(\"fuzz = \" + fuzz) //\n",
    "alert(\"clip = \" + clip) //"
   ]
  },
  {
   "cell_type": "markdown",
   "metadata": {},
   "source": [
    "### Key Takeaways"
   ]
  },
  {
   "cell_type": "raw",
   "metadata": {},
   "source": [
    "*\n"
   ]
  }
 ],
 "metadata": {
  "kernelspec": {
   "display_name": "Python 3 (ipykernel)",
   "language": "python",
   "name": "python3"
  },
  "language_info": {
   "codemirror_mode": {
    "name": "ipython",
    "version": 3
   },
   "file_extension": ".py",
   "mimetype": "text/x-python",
   "name": "python",
   "nbconvert_exporter": "python",
   "pygments_lexer": "ipython3",
   "version": "3.9.12"
  }
 },
 "nbformat": 4,
 "nbformat_minor": 4
}
