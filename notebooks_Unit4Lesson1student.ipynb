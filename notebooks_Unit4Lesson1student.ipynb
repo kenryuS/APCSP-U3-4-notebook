{
 "cells": [
  {
   "cell_type": "markdown",
   "metadata": {},
   "source": [
    "#### Display"
   ]
  },
  {
   "cell_type": "raw",
   "metadata": {},
   "source": [
    "Assignment operator 🡠 (Psuedo Code)  = (Javascript)\n",
    "* like mathematic operator \"=\", it takes right value assigning to left value\n",
    "* \n"
   ]
  },
  {
   "cell_type": "code",
   "execution_count": 6,
   "metadata": {},
   "outputs": [
    {
     "data": {
      "application/javascript": [
       "var pow;  //decare a variable called pow\n",
       "pow = 3;  //assign pow a value\n",
       "pow = 5; //assign pow another value\n",
       "\n",
       "//what is going to display? 5\n",
       "\n",
       "alert(pow); //\n"
      ],
      "text/plain": [
       "<IPython.core.display.Javascript object>"
      ]
     },
     "metadata": {},
     "output_type": "display_data"
    }
   ],
   "source": [
    "%%js\n",
    "var pow;  //decare a variable called pow\n",
    "pow = 3;  //assign pow a value\n",
    "pow = 5; //assign pow another value\n",
    "\n",
    "//what is going to display? 5\n",
    "\n",
    "alert(pow); //"
   ]
  },
  {
   "cell_type": "raw",
   "metadata": {},
   "source": [
    "var pizza\n",
    "pizza 🡠 3\n",
    "var tacos\n",
    "pizza 🡠 \"yum\"\n",
    "tacos 🡠 \"the best\"\n",
    "\n",
    "What is stored in pizza & tacos? pizza: \"yum\", tacos: \"the best\""
   ]
  },
  {
   "cell_type": "code",
   "execution_count": 7,
   "metadata": {},
   "outputs": [
    {
     "data": {
      "application/javascript": [
       "var pow;  //decare a variable called pow\n",
       "pow = 1+2;  //assign pow a value\n",
       "pow = 3+4; //assign pow another value\n",
       "\n",
       "//what is going to display? 7 (3+4)\n",
       "\n",
       "alert(pow); //\n"
      ],
      "text/plain": [
       "<IPython.core.display.Javascript object>"
      ]
     },
     "metadata": {},
     "output_type": "display_data"
    }
   ],
   "source": [
    "%%js\n",
    "var pow;  //decare a variable called pow\n",
    "pow = 1+2;  //assign pow a value\n",
    "pow = 3+4; //assign pow another value\n",
    "\n",
    "//what is going to display? 7 (3+4)\n",
    "\n",
    "alert(pow); //"
   ]
  },
  {
   "cell_type": "markdown",
   "metadata": {},
   "source": [
    "### Assign a Variable: Expression with Variables"
   ]
  },
  {
   "cell_type": "code",
   "execution_count": 8,
   "metadata": {},
   "outputs": [
    {
     "data": {
      "application/javascript": [
       "var kit = 0\n",
       "kit = 1\n",
       "var boo = 0\n",
       "boo = kit + 1\n",
       "kit = 5\n",
       "//what is the output? boo = 2, kit = 5\n",
       "alert(boo) //\n",
       "alert(kit) //\n"
      ],
      "text/plain": [
       "<IPython.core.display.Javascript object>"
      ]
     },
     "metadata": {},
     "output_type": "display_data"
    }
   ],
   "source": [
    "%%js\n",
    "var kit = 0\n",
    "kit = 1\n",
    "var boo = 0\n",
    "boo = kit + 1\n",
    "kit = 5\n",
    "//what is the output? boo = 2, kit = 5\n",
    "alert(boo) //\n",
    "alert(kit) //"
   ]
  },
  {
   "cell_type": "code",
   "execution_count": 11,
   "metadata": {},
   "outputs": [
    {
     "data": {
      "application/javascript": [
       "var fuzz\n",
       "var clip\n",
       "fuzz = 5\n",
       "clip = fuzz + 2 // 7\n",
       "fuzz = clip + 1 // 8\n",
       "clip = \"gr\" + fuzz // \"gr8\"\n",
       "fuzz = fuzz + 1 \n",
       "fuzz = fuzz + 1\n",
       "fuzz = fuzz + 1 // 11\n",
       "//what is the output? clip = gr8, fuzz = 11\n",
       "\n",
       "alert(\"fuzz = \" + fuzz) // clip = gr8\n",
       "alert(\"clip = \" + clip) // fuzz = 11\n"
      ],
      "text/plain": [
       "<IPython.core.display.Javascript object>"
      ]
     },
     "metadata": {},
     "output_type": "display_data"
    }
   ],
   "source": [
    "%%js\n",
    "var fuzz\n",
    "var clip\n",
    "fuzz = 5\n",
    "clip = fuzz + 2 // 7\n",
    "fuzz = clip + 1 // 8\n",
    "clip = \"gr\" + fuzz // \"gr8\"\n",
    "fuzz = fuzz + 1 \n",
    "fuzz = fuzz + 1\n",
    "fuzz = fuzz + 1 // 11\n",
    "//what is the output? clip = gr8, fuzz = 11\n",
    "\n",
    "alert(\"fuzz = \" + fuzz) // clip = gr8\n",
    "alert(\"clip = \" + clip) // fuzz = 11"
   ]
  },
  {
   "cell_type": "markdown",
   "metadata": {},
   "source": [
    "### Key Takeaways"
   ]
  },
  {
   "cell_type": "markdown",
   "metadata": {},
   "source": [
    "* Beacuase of JavaScript's weird (dynamic) typing, some behavior may not be expected when you add number to string.\n",
    "* Expression evaluate to one value\n",
    "* when a var is in an expression it uses the value stored, not change the actual value.\n",
    "* Vars are assigned a new value using = (or <- in AP Psuedo)\n",
    "* Evaluate first, then assigned\n",
    "* Old values are overwirtten"
   ]
  },
  {
   "cell_type": "code",
   "execution_count": null,
   "metadata": {},
   "outputs": [],
   "source": []
  }
 ],
 "metadata": {
  "kernelspec": {
   "display_name": "Python 3 (ipykernel)",
   "language": "python",
   "name": "python3"
  },
  "language_info": {
   "codemirror_mode": {
    "name": "ipython",
    "version": 3
   },
   "file_extension": ".py",
   "mimetype": "text/x-python",
   "name": "python",
   "nbconvert_exporter": "python",
   "pygments_lexer": "ipython3",
   "version": "3.9.12"
  }
 },
 "nbformat": 4,
 "nbformat_minor": 4
}
